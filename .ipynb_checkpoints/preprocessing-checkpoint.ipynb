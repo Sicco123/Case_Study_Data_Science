{
 "cells": [
  {
   "cell_type": "markdown",
   "id": "51a1ac9e-d33d-4f4a-aeb5-359edd8a41f5",
   "metadata": {},
   "source": [
    "# Data preprocessing"
   ]
  },
  {
   "cell_type": "code",
   "execution_count": 1,
   "id": "95febae0-b68b-4444-8538-fd18bab2bd98",
   "metadata": {},
   "outputs": [],
   "source": [
    "import pandas as pd"
   ]
  },
  {
   "cell_type": "markdown",
   "id": "d298f1b5-104c-4ac6-aa9d-c94c267901e1",
   "metadata": {},
   "source": [
    "## Load Oxford data"
   ]
  },
  {
   "cell_type": "code",
   "execution_count": 2,
   "id": "797ba1b3-2f70-42f3-a130-dc55e6effd3d",
   "metadata": {},
   "outputs": [
    {
     "name": "stderr",
     "output_type": "stream",
     "text": [
      "C:\\Users\\Jaimie\\Anaconda3\\envs\\CSEDS\\lib\\site-packages\\IPython\\core\\interactiveshell.py:3457: DtypeWarning: Columns (2,3) have mixed types.Specify dtype option on import or set low_memory=False.\n",
      "  exec(code_obj, self.user_global_ns, self.user_ns)\n"
     ]
    }
   ],
   "source": [
    "data_oxford = pd.read_csv('https://github.com/OxCGRT/covid-policy-tracker/blob/master/data/OxCGRT_latest.csv?raw=true')"
   ]
  },
  {
   "cell_type": "code",
   "execution_count": 3,
   "id": "8c48f188-9b8b-4bd8-bc64-5d45c4da3f03",
   "metadata": {},
   "outputs": [
    {
     "name": "stdout",
     "output_type": "stream",
     "text": [
      "Index(['CountryName', 'CountryCode', 'RegionName', 'RegionCode',\n",
      "       'Jurisdiction', 'Date', 'C1_School closing', 'C1_Flag',\n",
      "       'C2_Workplace closing', 'C2_Flag', 'C3_Cancel public events', 'C3_Flag',\n",
      "       'C4_Restrictions on gatherings', 'C4_Flag', 'C5_Close public transport',\n",
      "       'C5_Flag', 'C6_Stay at home requirements', 'C6_Flag',\n",
      "       'C7_Restrictions on internal movement', 'C7_Flag',\n",
      "       'C8_International travel controls', 'E1_Income support', 'E1_Flag',\n",
      "       'E2_Debt/contract relief', 'E3_Fiscal measures',\n",
      "       'E4_International support', 'H1_Public information campaigns',\n",
      "       'H1_Flag', 'H2_Testing policy', 'H3_Contact tracing',\n",
      "       'H4_Emergency investment in healthcare', 'H5_Investment in vaccines',\n",
      "       'H6_Facial Coverings', 'H6_Flag', 'H7_Vaccination policy', 'H7_Flag',\n",
      "       'H8_Protection of elderly people', 'H8_Flag', 'M1_Wildcard',\n",
      "       'V1_Vaccine Prioritisation (summary)',\n",
      "       'V2A_Vaccine Availability (summary)',\n",
      "       'V2B_Vaccine age eligibility/availability age floor (general population summary)',\n",
      "       'V2C_Vaccine age eligibility/availability age floor (at risk summary)',\n",
      "       'V2D_Medically/ clinically vulnerable (Non-elderly)', 'V2E_Education',\n",
      "       'V2F_Frontline workers  (non healthcare)',\n",
      "       'V2G_Frontline workers  (healthcare)',\n",
      "       'V3_Vaccine Financial Support (summary)', 'ConfirmedCases',\n",
      "       'ConfirmedDeaths', 'StringencyIndex', 'StringencyIndexForDisplay',\n",
      "       'StringencyLegacyIndex', 'StringencyLegacyIndexForDisplay',\n",
      "       'GovernmentResponseIndex', 'GovernmentResponseIndexForDisplay',\n",
      "       'ContainmentHealthIndex', 'ContainmentHealthIndexForDisplay',\n",
      "       'EconomicSupportIndex', 'EconomicSupportIndexForDisplay'],\n",
      "      dtype='object')\n"
     ]
    }
   ],
   "source": [
    "print(data_oxford.columns)"
   ]
  },
  {
   "cell_type": "markdown",
   "id": "b121dda2-4c2e-4357-b605-baa0906933dc",
   "metadata": {},
   "source": [
    "### Choose a country from the following list"
   ]
  },
  {
   "cell_type": "code",
   "execution_count": 4,
   "id": "e4793379-e29e-41c0-ada8-1e05d15968ff",
   "metadata": {},
   "outputs": [
    {
     "name": "stdout",
     "output_type": "stream",
     "text": [
      "['Aruba' 'Afghanistan' 'Angola' 'Albania' 'Andorra' 'United Arab Emirates'\n",
      " 'Argentina' 'Australia' 'Austria' 'Azerbaijan' 'Burundi' 'Belgium'\n",
      " 'Benin' 'Burkina Faso' 'Bangladesh' 'Bulgaria' 'Bahrain' 'Bahamas'\n",
      " 'Bosnia and Herzegovina' 'Belarus' 'Belize' 'Bermuda' 'Bolivia' 'Brazil'\n",
      " 'Barbados' 'Brunei' 'Bhutan' 'Botswana' 'Central African Republic'\n",
      " 'Canada' 'Switzerland' 'Chile' 'China' \"Cote d'Ivoire\" 'Cameroon'\n",
      " 'Democratic Republic of Congo' 'Congo' 'Colombia' 'Comoros' 'Cape Verde'\n",
      " 'Costa Rica' 'Cuba' 'Cyprus' 'Czech Republic' 'Germany' 'Djibouti'\n",
      " 'Dominica' 'Denmark' 'Dominican Republic' 'Algeria' 'Ecuador' 'Egypt'\n",
      " 'Eritrea' 'Spain' 'Estonia' 'Ethiopia' 'Finland' 'Fiji' 'France'\n",
      " 'Faeroe Islands' 'Gabon' 'United Kingdom' 'Georgia' 'Ghana' 'Guinea'\n",
      " 'Gambia' 'Greece' 'Greenland' 'Guatemala' 'Guam' 'Guyana' 'Hong Kong'\n",
      " 'Honduras' 'Croatia' 'Haiti' 'Hungary' 'Indonesia' 'India' 'Ireland'\n",
      " 'Iran' 'Iraq' 'Iceland' 'Israel' 'Italy' 'Jamaica' 'Jordan' 'Japan'\n",
      " 'Kazakhstan' 'Kenya' 'Kyrgyz Republic' 'Cambodia' 'Kiribati'\n",
      " 'South Korea' 'Kuwait' 'Laos' 'Lebanon' 'Liberia' 'Libya' 'Liechtenstein'\n",
      " 'Sri Lanka' 'Lesotho' 'Lithuania' 'Luxembourg' 'Latvia' 'Macao' 'Morocco'\n",
      " 'Monaco' 'Moldova' 'Madagascar' 'Mexico' 'Mali' 'Malta' 'Myanmar'\n",
      " 'Mongolia' 'Mozambique' 'Mauritania' 'Mauritius' 'Malawi' 'Malaysia'\n",
      " 'Namibia' 'Niger' 'Nigeria' 'Nicaragua' 'Netherlands' 'Norway' 'Nepal'\n",
      " 'New Zealand' 'Oman' 'Pakistan' 'Panama' 'Peru' 'Philippines'\n",
      " 'Papua New Guinea' 'Poland' 'Puerto Rico' 'Portugal' 'Paraguay'\n",
      " 'Palestine' 'Qatar' 'Kosovo' 'Romania' 'Russia' 'Rwanda' 'Saudi Arabia'\n",
      " 'Sudan' 'Senegal' 'Singapore' 'Solomon Islands' 'Sierra Leone'\n",
      " 'El Salvador' 'San Marino' 'Somalia' 'Serbia' 'South Sudan' 'Suriname'\n",
      " 'Slovak Republic' 'Slovenia' 'Sweden' 'Eswatini' 'Seychelles' 'Syria'\n",
      " 'Chad' 'Togo' 'Thailand' 'Tajikistan' 'Turkmenistan' 'Timor-Leste'\n",
      " 'Tonga' 'Trinidad and Tobago' 'Tunisia' 'Turkey' 'Taiwan' 'Tanzania'\n",
      " 'Uganda' 'Ukraine' 'Uruguay' 'United States' 'Uzbekistan' 'Venezuela'\n",
      " 'United States Virgin Islands' 'Vietnam' 'Vanuatu' 'Yemen' 'South Africa'\n",
      " 'Zambia' 'Zimbabwe']\n"
     ]
    }
   ],
   "source": [
    "print(data_oxford['CountryName'].unique())"
   ]
  },
  {
   "cell_type": "code",
   "execution_count": 5,
   "id": "0f9e580f-5d94-47a1-b6e5-05ffe816de6e",
   "metadata": {},
   "outputs": [],
   "source": [
    "country_of_interest = 'Japan'"
   ]
  },
  {
   "cell_type": "code",
   "execution_count": 6,
   "id": "50360abb-212e-4299-955b-128987f13cec",
   "metadata": {},
   "outputs": [],
   "source": [
    "df_country=data_oxford[data_oxford['CountryName'] == country_of_interest]"
   ]
  },
  {
   "cell_type": "markdown",
   "id": "a02fd307-556d-42b6-aa48-82c1cf2412bb",
   "metadata": {},
   "source": [
    "### Feature selection"
   ]
  },
  {
   "cell_type": "markdown",
   "id": "9ee04c1d-ae7f-413a-aae1-7e3be8d008a6",
   "metadata": {},
   "source": [
    "For now we only focus on the indices"
   ]
  },
  {
   "cell_type": "code",
   "execution_count": 7,
   "id": "3edb3cb1-156d-4cc9-b14b-01f22fa01948",
   "metadata": {},
   "outputs": [],
   "source": [
    "columns_to_select = ['Date', 'StringencyIndex', 'GovernmentResponseIndex', 'ContainmentHealthIndex', 'EconomicSupportIndex']\n",
    "df_country = df_country[columns_to_select]"
   ]
  },
  {
   "cell_type": "code",
   "execution_count": 8,
   "id": "e38f6a78-0fda-48bd-ad1f-1382b46e223f",
   "metadata": {},
   "outputs": [],
   "source": [
    "df_country['Date'] = pd.to_datetime(df_country['Date'], format='%Y%m%d')\n",
    "df_country = df_country.sort_values(by=['Date'])"
   ]
  },
  {
   "cell_type": "markdown",
   "id": "d7cee0b0-17ec-4129-9806-8e79ab080892",
   "metadata": {},
   "source": [
    "## Load reproduction data"
   ]
  },
  {
   "cell_type": "code",
   "execution_count": 9,
   "id": "8fe2aa0f-6b9d-43b3-bef9-90083946160d",
   "metadata": {},
   "outputs": [],
   "source": [
    "if country_of_interest == 'Japan':\n",
    "    df_rt_country = pd.read_csv('effective_reproduction_number_japan.csv', names=['Date', 'Rt'], header=0)\n",
    "    df_rt_country['Date'] = pd.to_datetime(df_rt_country['Date'], format='%Y/%m/%d')\n",
    "    df_rt_country = df_rt_country.sort_values(by=['Date'])\n",
    "elif country_of_interest == 'Netherlands':\n",
    "    df_rt_country = pd.read_json('https://data.rivm.nl/covid-19/COVID-19_reproductiegetal.json', orient='records')\n",
    "    df_rt_country.rename(columns={\"Rt_avg\": \"Rt\"}, inplace=True)\n",
    "    df_rt_country = df_rt_country[['Date', 'Rt']]\n",
    "    df_rt_country['Date'] = pd.to_datetime(df_rt_country['Date'], format='%Y-%m-%d')\n",
    "    df_rt_country = df_rt_country.sort_values(by=['Date'])\n",
    "else:\n",
    "    print(f'No reproduction data found for {country_of_interest}')"
   ]
  },
  {
   "cell_type": "code",
   "execution_count": 10,
   "id": "eb4393ed-dc3c-44f9-b46f-1bc4fa5f7ed3",
   "metadata": {},
   "outputs": [
    {
     "name": "stdout",
     "output_type": "stream",
     "text": [
      "        Date    Rt\n",
      "0 2020-03-01  1.31\n",
      "1 2020-03-02  1.18\n",
      "2 2020-03-03  1.29\n",
      "3 2020-03-04  1.25\n",
      "4 2020-03-05  1.17\n"
     ]
    }
   ],
   "source": [
    "print(df_rt_country.head())\n",
    "\n",
    "    "
   ]
  },
  {
   "cell_type": "markdown",
   "id": "ce2212cc-17cd-431b-9f3b-31d0f68b49d1",
   "metadata": {},
   "source": [
    "### Merge Oxford and reproduction data"
   ]
  },
  {
   "cell_type": "code",
   "execution_count": 11,
   "id": "f757f539-6c7a-45bb-8f48-0ec307adaf37",
   "metadata": {},
   "outputs": [],
   "source": [
    "df_country = df_country.merge(df_rt_country, on='Date').sort_values(by=['Date'])"
   ]
  },
  {
   "cell_type": "markdown",
   "id": "4c1cd641-cb09-40c9-87fd-33eecea28015",
   "metadata": {},
   "source": [
    "### Add time index"
   ]
  },
  {
   "cell_type": "code",
   "execution_count": 12,
   "id": "dfd38571-7dfa-4c68-bc9b-4e0e1a6962ac",
   "metadata": {},
   "outputs": [],
   "source": [
    "df_country['time_index'] = [i for i in range(len(df_country))]"
   ]
  },
  {
   "cell_type": "code",
   "execution_count": 13,
   "id": "e064c4f6-fb51-4f4a-b117-8e02bd30cf1b",
   "metadata": {},
   "outputs": [
    {
     "name": "stdout",
     "output_type": "stream",
     "text": [
      "        Date  StringencyIndex  GovernmentResponseIndex  \\\n",
      "0 2020-03-01            34.26                    30.21   \n",
      "1 2020-03-02            43.52                    35.42   \n",
      "2 2020-03-03            43.52                    35.42   \n",
      "3 2020-03-04            43.52                    35.42   \n",
      "4 2020-03-05            43.52                    35.42   \n",
      "\n",
      "   ContainmentHealthIndex  EconomicSupportIndex    Rt  time_index  \n",
      "0                   34.52                   0.0  1.31           0  \n",
      "1                   40.48                   0.0  1.18           1  \n",
      "2                   40.48                   0.0  1.29           2  \n",
      "3                   40.48                   0.0  1.25           3  \n",
      "4                   40.48                   0.0  1.17           4  \n"
     ]
    }
   ],
   "source": [
    "print(df_country.head())"
   ]
  },
  {
   "cell_type": "markdown",
   "id": "f1f0ca31-7c1c-4272-96ca-0dd2c7682589",
   "metadata": {},
   "source": [
    "### Filter by date"
   ]
  },
  {
   "cell_type": "code",
   "execution_count": 14,
   "id": "6d8bb03a-bb5a-4b0f-b4db-9d854bab874b",
   "metadata": {},
   "outputs": [],
   "source": [
    "max_date = pd.Timestamp(2021,6,1)\n",
    "df_country = df_country[df_country['Date'] <= max_date]"
   ]
  },
  {
   "cell_type": "markdown",
   "id": "b82d8edb-f264-43f8-a730-0f76a0b14dd7",
   "metadata": {},
   "source": [
    "### Export data"
   ]
  },
  {
   "cell_type": "code",
   "execution_count": 15,
   "id": "a6b87d33-3cdb-4a04-830f-3a318fd12937",
   "metadata": {},
   "outputs": [],
   "source": [
    "df_country.to_pickle(f\"reproduction_vs_index_{country_of_interest}.pkl\")"
   ]
  }
 ],
 "metadata": {
  "kernelspec": {
   "display_name": "CSEDS",
   "language": "python",
   "name": "cseds"
  },
  "language_info": {
   "codemirror_mode": {
    "name": "ipython",
    "version": 3
   },
   "file_extension": ".py",
   "mimetype": "text/x-python",
   "name": "python",
   "nbconvert_exporter": "python",
   "pygments_lexer": "ipython3",
   "version": "3.7.11"
  }
 },
 "nbformat": 4,
 "nbformat_minor": 5
}
